from math import sqrt

a=5
b=20
c=10
d=(b*b)-(4*a*c)
x1=(((-b)+sqrt(d))/(2*a))
x2=(((-b)-sqrt(d))/(2*a))
print("the roots are: %f and %f" %(x1,x2))